{
 "cells": [
  {
   "cell_type": "code",
   "execution_count": null,
   "metadata": {},
   "outputs": [],
   "source": [
    "import numpy as np\n",
    "import matplotlib.pyplot as plt\n",
    "import seaborn as sns\n",
    "\n",
    "from tensorflow.keras import backend as K\n",
    "from tensorflow.keras.optimizers import RMSprop ,SGD\n",
    "from tensorflow.keras.callbacks import ModelCheckpoint, ReduceLROnPlateau\n",
    "\n",
    "\n",
    "# UDF\n",
    "from eXplainableAI.transparent_model.RNN import ConditionalRETAIN\n",
    "from eXplainableAI.transparent_model.RNN.interpretation import Interpreter"
   ]
  },
  {
   "cell_type": "markdown",
   "metadata": {},
   "source": [
    "### Load data"
   ]
  },
  {
   "cell_type": "markdown",
   "metadata": {},
   "source": [
    "Sorry not to provide data set. This is because of ethic issue. (IRB not permit data sharing to third party )"
   ]
  },
  {
   "cell_type": "code",
   "execution_count": null,
   "metadata": {},
   "outputs": [],
   "source": [
    "DATA_PATH = ''\n",
    "\n",
    "# Train data\n",
    "X_train_var = np.load(DATA_PATH + '/cache/numpy/X_train_var.npy')\n",
    "X_train_inv = np.load(DATA_PATH + '/cache/numpy/X_train_fix.npy')\n",
    "Y_train = np.load(DATA_PATH + '/cache/numpy/Y_train.npy')\n",
    "\n",
    "# test\n",
    "X_test_var = np.load(cwd + '/cache/numpy/X_test_var.npy')\n",
    "X_test_inv = np.load(cwd +'/cache/numpy/X_test_fix.npy')\n",
    "Y_test = np.load(cwd + '/cache/numpy/Y_test.npy')\n",
    "print(X_train_var.shape, X_train_inv.shape)"
   ]
  },
  {
   "cell_type": "markdown",
   "metadata": {},
   "source": [
    "### Build model"
   ]
  },
  {
   "cell_type": "code",
   "execution_count": null,
   "metadata": {},
   "outputs": [],
   "source": [
    "config = {'n_features':vars_,\n",
    "          'n_auxs':9,\n",
    "          'steps':16,\n",
    "          'hidden_units': 20\n",
    "          }\n",
    "\n",
    "conditional_retain = ConditionalRETAIN(config)\n",
    "retain = conditional_retain.build_model()\n",
    "retain.compile(optimizer=RMSprop(lr=0.0005), loss='mse', metrics=['mse'])\n",
    "retain.summary()"
   ]
  },
  {
   "cell_type": "code",
   "execution_count": null,
   "metadata": {},
   "outputs": [],
   "source": [
    "model_dir = './model/'\n",
    "check_point = ModelCheckpoint(filepath=model_dir+'{epoch:03d}.hdf5',\n",
    "                     monitor='val_loss', \n",
    "                     verbose=1, \n",
    "                     save_best_only=True, \n",
    "                     save_weights_only=True,\n",
    "                     mode='min' \n",
    "                     )\n",
    "\n",
    "reduce_lr = ReduceLROnPlateau(monitor='val_loss', factor=0.5, patience=5, min_lr=0.000001, mode='min')  \n",
    "\n",
    "history = retain.fit(x=[X_train_var, X_train_inv], \n",
    "                     y=Y_train,   \n",
    "                     batch_size=16*5,\n",
    "                     epochs=500,\n",
    "                     shuffle=False,\n",
    "                     callbacks=[check_point, reduce_lr],\n",
    "                     validation_split=0.3)"
   ]
  },
  {
   "cell_type": "markdown",
   "metadata": {},
   "source": [
    "### Interpetation on overall data set \n",
    "(This is not instance level interpretation like previous RETAIN)"
   ]
  },
  {
   "cell_type": "code",
   "execution_count": null,
   "metadata": {},
   "outputs": [],
   "source": [
    "y_predict = model.predict(x=[X_test_var, X_test_inv])"
   ]
  },
  {
   "cell_type": "markdown",
   "metadata": {},
   "source": [
    "###### Interpetation: alpha (Time level attention weight)"
   ]
  },
  {
   "cell_type": "code",
   "execution_count": null,
   "metadata": {},
   "outputs": [],
   "source": [
    "interpreter = Interpreter(model, X_test_var, X_test_inv, Y_test)\n",
    "alpha = np.array(interpreter.get_model_weight('alpha'))\n",
    "\n",
    "alpha_mean = alpha.reshape(-1, 16, 16, 1)[:, -1, :, :].mean(axis=0)\n",
    "print('Alpha shape: ', alpha_mean.shape)\n",
    "\n",
    "fig, axes = plt.subplots(1, 1, figsize=(14, 6))\n",
    "sns.heatmap(alpha_mean.T, annot=True, fmt='.4f', xticklabels=list(range(1, 17)))"
   ]
  },
  {
   "cell_type": "markdown",
   "metadata": {},
   "source": [
    "###### Interpetation: Beta (Variable level attention weight)"
   ]
  },
  {
   "cell_type": "code",
   "execution_count": null,
   "metadata": {},
   "outputs": [],
   "source": [
    "beta = np.array(interpreter.get_model_weight('beta'))\n",
    "beta = beta.reshape(-1, 16, 16, len(vars_))\n",
    "beta_mean = beta[:, 15, :, :].mean(axis=0)\n",
    "\n",
    "fig, axes = plt.subplots(1, 1, figsize=(13, 6))\n",
    "sns.heatmap(beta_mean.T, \n",
    "            cmap='coolwarm', \n",
    "            annot=True, \n",
    "            vmin=-1, \n",
    "            vmax=1, \n",
    "            xticklabels=list(range(1, 17)),\n",
    "            yticklabels=vars_\n",
    "           )\n",
    "plt.xticks(rotation=45)"
   ]
  },
  {
   "cell_type": "markdown",
   "metadata": {},
   "source": [
    "###### Fusion layer including static varaibles weight"
   ]
  },
  {
   "cell_type": "code",
   "execution_count": null,
   "metadata": {},
   "outputs": [],
   "source": [
    "W, bias = interpreter.get_model_weight('weight')\n",
    "W.reshape(-1, W.shape[0])[0][2:4] = W.reshape(-1, W.shape[0])[0][2:4] * 1000  # # calories, steps * 1K당으로 변경\n",
    "\n",
    "\n",
    "fig, axes = plt.subplots(1, 1, figsize=(18, 6))\n",
    "sns.heatmap(W.reshape(-1, W.shape[0]), cmap='coolwarm', fmt='.3f', annot=True, \n",
    "            xticklabels=vars_+inv_,\n",
    "            vmin=-1, vmax=1)\n",
    "\n",
    "fig.savefig('./results/denselayer.png')"
   ]
  },
  {
   "cell_type": "markdown",
   "metadata": {},
   "source": [
    "###### Overall Coef contribution"
   ]
  },
  {
   "cell_type": "code",
   "execution_count": null,
   "metadata": {},
   "outputs": [],
   "source": [
    "fig, axes = plt.subplots(1, 1, figsize=(14, 7))\n",
    "\n",
    "W_time = W[:len(vars_)]\n",
    "contr_coef = W_time.ravel() * (alpha_mean * beta_mean)\n",
    "\n",
    "sns.heatmap(contr_coef.T, cmap='coolwarm', annot=True, fmt='.3f',\n",
    "            yticklabels=vars_,\n",
    "            xticklabels=list(range(1, 17)),\n",
    "            vmin=-0.06, \n",
    "            vmax=0.06)"
   ]
  }
 ],
 "metadata": {
  "kernelspec": {
   "display_name": "Python 3",
   "language": "python",
   "name": "python3"
  },
  "language_info": {
   "codemirror_mode": {
    "name": "ipython",
    "version": 3
   },
   "file_extension": ".py",
   "mimetype": "text/x-python",
   "name": "python",
   "nbconvert_exporter": "python",
   "pygments_lexer": "ipython3",
   "version": "3.6.8"
  }
 },
 "nbformat": 4,
 "nbformat_minor": 4
}
