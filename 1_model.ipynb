{
 "cells": [
  {
   "cell_type": "code",
   "execution_count": null,
   "metadata": {},
   "outputs": [],
   "source": [
    "import numpy as np\n",
    "from tensorflow.keras import backend as K\n",
    "from tensorflow.keras.optimizers import RMSprop ,SGD\n",
    "from tensorflow.keras.callbacks import ModelCheckpoint, ReduceLROnPlateau\n",
    "\n",
    "from eXplainableAI.transparent_model.RNN import ConditionalRETAIN"
   ]
  },
  {
   "cell_type": "markdown",
   "metadata": {},
   "source": [
    "## Load data"
   ]
  },
  {
   "cell_type": "code",
   "execution_count": null,
   "metadata": {},
   "outputs": [],
   "source": [
    "# Not supported data (IRB not permit data sharing to third party )\n",
    "cwd = '/home/hoheon/Jupyter/2020_01/Noom_RETAIN_PLUS_DTW/'\n",
    "\n",
    "X_train_var = np.load(cwd + '/cache/numpy/X_train_var.npy')\n",
    "X_train_inv = np.load(cwd + '/cache/numpy/X_train_fix.npy')\n",
    "Y_train = np.load(cwd + '/cache/numpy/Y_train.npy')\n",
    "\n",
    "# test\n",
    "X_test_var = np.load(cwd + '/cache/numpy/X_test_var.npy')\n",
    "X_test_inv = np.load(cwd +'/cache/numpy/X_test_fix.npy')\n",
    "Y_test = np.load(cwd + '/cache/numpy/Y_test.npy')\n",
    "\n",
    "# Remove weight diff\n",
    "X_train_var = np.delete(X_train_var, -6, axis=2)\n",
    "X_test_var = np.delete(X_test_var, -6, axis=2)\n",
    "\n",
    "\n",
    "vars_ = X_train_var.shape[-1]\n",
    "\n",
    "print(X_train_var.shape, X_train_inv.shape)"
   ]
  },
  {
   "cell_type": "code",
   "execution_count": null,
   "metadata": {},
   "outputs": [],
   "source": [
    "# Delete N drink, Overcaloires\n",
    "X_train_var = np.delete(X_train_var, -5, axis=2)\n",
    "X_train_var = np.delete(X_train_var, -5, axis=2)\n",
    "\n",
    "X_test_var = np.delete(X_test_var, -5, axis=2)\n",
    "X_test_var = np.delete(X_test_var, -5, axis=2)\n",
    "\n",
    "vars_ = X_train_var.shape[-1]\n",
    "\n",
    "print(X_train_var.shape, X_train_inv.shape)"
   ]
  },
  {
   "cell_type": "markdown",
   "metadata": {},
   "source": [
    "## Main"
   ]
  },
  {
   "cell_type": "code",
   "execution_count": null,
   "metadata": {},
   "outputs": [],
   "source": [
    "config = {'n_features':vars_,\n",
    "          'n_auxs':9,\n",
    "          'steps':16,\n",
    "          'hidden_units': 20\n",
    "          }\n",
    "\n",
    "conditional_retain = ConditionalRETAIN(config)\n",
    "retain = conditional_retain.build_model()\n",
    "retain.compile(optimizer=RMSprop(lr=0.0005), loss='mse', metrics=['mse'])\n",
    "retain.summary()"
   ]
  },
  {
   "cell_type": "code",
   "execution_count": null,
   "metadata": {},
   "outputs": [],
   "source": [
    "model_dir = './model/'\n",
    "check_point = ModelCheckpoint(filepath=model_dir+'{epoch:03d}.hdf5',\n",
    "                     monitor='val_loss', \n",
    "                     verbose=1, \n",
    "                     save_best_only=True, \n",
    "                     save_weights_only=True,\n",
    "                     mode='min' \n",
    "                     )\n",
    "\n",
    "reduce_lr = ReduceLROnPlateau(monitor='val_loss', factor=0.5, patience=5, min_lr=0.000001, mode='min')  \n",
    "\n",
    "history = retain.fit(x=[X_train_var, X_train_inv], \n",
    "                     y=Y_train,   \n",
    "                     batch_size=16*5,\n",
    "                     epochs=500,\n",
    "                     shuffle=False,\n",
    "                     callbacks=[check_point, reduce_lr],\n",
    "                     validation_split=0.3)"
   ]
  }
 ],
 "metadata": {
  "kernelspec": {
   "display_name": "Python 3",
   "language": "python",
   "name": "python3"
  },
  "language_info": {
   "codemirror_mode": {
    "name": "ipython",
    "version": 3
   },
   "file_extension": ".py",
   "mimetype": "text/x-python",
   "name": "python",
   "nbconvert_exporter": "python",
   "pygments_lexer": "ipython3",
   "version": "3.6.8"
  }
 },
 "nbformat": 4,
 "nbformat_minor": 4
}
