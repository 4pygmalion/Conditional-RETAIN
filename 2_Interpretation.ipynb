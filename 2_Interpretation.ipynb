{
 "cells": [
  {
   "cell_type": "code",
   "execution_count": null,
   "metadata": {},
   "outputs": [],
   "source": [
    "import numpy as np\n",
    "import pandas as pd\n",
    "import matplotlib.pyplot as plt\n",
    "import seaborn as sns\n",
    "\n",
    "from tensorflow.keras import backend as K\n",
    "from tensorflow.keras.optimizers import RMSprop ,SGD\n",
    "\n",
    "\n",
    "from eXplainableAI.transparent_model.RNN import ConditionalRETAIN\n",
    "from eXplainableAI.transparent_model.RNN.interpretation import Interpreter\n",
    "from eXplainableAI.transparent_model.RNN.evaluation import model_week_evaluation, mean_absolute_percentage_error"
   ]
  },
  {
   "cell_type": "code",
   "execution_count": null,
   "metadata": {},
   "outputs": [],
   "source": [
    "week_labels = ['{}week'.format(i) for i in range(1, 17)]"
   ]
  },
  {
   "cell_type": "code",
   "execution_count": null,
   "metadata": {},
   "outputs": [],
   "source": [
    "# train\n",
    "X_train_var = np.load('./cache/numpy/X_train_var.npy')\n",
    "X_train_inv = np.load('./cache/numpy/X_train_fix.npy')\n",
    "Y_train = np.load('./cache/numpy/Y_train.npy')\n",
    "\n",
    "# test\n",
    "X_test_var = np.load('./cache/numpy/X_test_var.npy')\n",
    "X_test_inv = np.load('./cache/numpy/X_test_fix.npy')\n",
    "Y_test = np.load('./cache/numpy/Y_test.npy')\n",
    "\n",
    "# Remove weight diff\n",
    "X_train_var = np.delete(X_train_var, -6, axis=2)\n",
    "X_test_var = np.delete(X_test_var, -6, axis=2)\n",
    "\n",
    "vars_ = X_train_var.shape[-1]\n",
    "\n",
    "print(X_train_var.shape, X_train_inv.shape)\n",
    "\n",
    "vars_ = ['wt_frequency','meal_adherence','calories','steps',\n",
    "         'n_exercise',\n",
    "         'n_drink','n_overcal',\n",
    "        'Other', 'SharplyDecrease', 'Yoyo', 'Increase', 'ModerateDecrease']\n",
    "inv_ = ['Female', 'Male', 'age', 'height', 'initKg',\n",
    "       'Obese class I', 'Obese class II', 'Obese class III', 'Overweight']"
   ]
  },
  {
   "cell_type": "code",
   "execution_count": null,
   "metadata": {},
   "outputs": [],
   "source": [
    "config = {'n_features':len(vars_),\n",
    "          'n_aux':len(inv_),\n",
    "          'step':16,\n",
    "          'hidden_units':20}\n",
    "\n",
    "retain = ConditionalRETAIN(config)\n",
    "model = retain.build_model()\n",
    "model.compile(optimizer=RMSprop(lr=0.05), loss='mse', metrics=['mse'])\n",
    "model.summary()"
   ]
  },
  {
   "cell_type": "code",
   "execution_count": null,
   "metadata": {},
   "outputs": [],
   "source": [
    "y_predict = model.predict(x=[X_test_var, X_test_inv])\n",
    "\n",
    "MAPE = mean_absolute_percentage_error(Y_test, y_predict)\n",
    "print('MAPE (Overall): {} %'.format(MAPE))\n",
    "\n",
    "performance = model_week_evaluation(model, x=[X_test_var, X_test_inv], y=Y_test)\n",
    "performance = [round(i, 5) for i in performance]\n",
    "print(performance)"
   ]
  },
  {
   "cell_type": "markdown",
   "metadata": {},
   "source": [
    "### Alpha"
   ]
  },
  {
   "cell_type": "code",
   "execution_count": null,
   "metadata": {},
   "outputs": [],
   "source": [
    "interpreter = Interpreter(model, X_test_var, X_test_inv, Y_test)\n",
    "alpha = np.array(interpreter.get_model_weight('alpha'))\n",
    "\n",
    "alpha_mean = alpha.reshape(-1, 16, 16, 1)[:, -1, :, :].mean(axis=0)\n",
    "print('Alpha shape: ', alpha_mean.shape)\n",
    "\n",
    "fig, axes = plt.subplots(1, 1, figsize=(14, 6))\n",
    "sns.heatmap(alpha_mean.T, annot=True, fmt='.4f', xticklabels=list(range(1, 17)))"
   ]
  },
  {
   "cell_type": "markdown",
   "metadata": {},
   "source": [
    "### Beta"
   ]
  },
  {
   "cell_type": "code",
   "execution_count": null,
   "metadata": {},
   "outputs": [],
   "source": [
    "beta = np.array(interpreter.get_model_weight('beta'))\n",
    "beta = beta.reshape(-1, 16, 16, len(vars_))\n",
    "beta_mean = beta[:, 15, :, :].mean(axis=0)\n",
    "\n",
    "fig, axes = plt.subplots(1, 1, figsize=(13, 6))\n",
    "sns.heatmap(beta_mean.T, \n",
    "            cmap='coolwarm', \n",
    "            annot=True, \n",
    "            vmin=-1, \n",
    "            vmax=1, \n",
    "            xticklabels=list(range(1, 17)),\n",
    "            yticklabels=vars_\n",
    "           )\n",
    "plt.xticks(rotation=45)"
   ]
  },
  {
   "cell_type": "markdown",
   "metadata": {},
   "source": [
    "### Dense layer"
   ]
  },
  {
   "cell_type": "code",
   "execution_count": null,
   "metadata": {},
   "outputs": [],
   "source": [
    "W, bias = interpreter.get_model_weight('weight')\n",
    "W.reshape(-1, W.shape[0])[0][2:4] = W.reshape(-1, W.shape[0])[0][2:4] * 1000  # # calories, steps * 1K당으로 변경\n",
    "\n",
    "\n",
    "fig, axes = plt.subplots(1, 1, figsize=(18, 6))\n",
    "sns.heatmap(W.reshape(-1, W.shape[0]), cmap='coolwarm', fmt='.3f', annot=True, \n",
    "            xticklabels=vars_+inv_,\n",
    "            vmin=-1, vmax=1)\n",
    "\n",
    "fig.savefig('./results/denselayer.png')"
   ]
  },
  {
   "cell_type": "markdown",
   "metadata": {},
   "source": [
    "### Overall Coef contribution"
   ]
  },
  {
   "cell_type": "code",
   "execution_count": null,
   "metadata": {},
   "outputs": [],
   "source": [
    "fig, axes = plt.subplots(1, 1, figsize=(14, 7))\n",
    "\n",
    "W_time = W[:len(vars_)]\n",
    "contr_coef = W_time.ravel() * (alpha_mean * beta_mean)\n",
    "\n",
    "sns.heatmap(contr_coef.T, cmap='coolwarm', annot=True, fmt='.3f',\n",
    "            yticklabels=vars_,\n",
    "            xticklabels=list(range(1, 17)),\n",
    "            vmin=-0.06, \n",
    "            vmax=0.06)"
   ]
  }
 ],
 "metadata": {
  "kernelspec": {
   "display_name": "Python 3",
   "language": "python",
   "name": "python3"
  },
  "language_info": {
   "codemirror_mode": {
    "name": "ipython",
    "version": 3
   },
   "file_extension": ".py",
   "mimetype": "text/x-python",
   "name": "python",
   "nbconvert_exporter": "python",
   "pygments_lexer": "ipython3",
   "version": "3.6.8"
  }
 },
 "nbformat": 4,
 "nbformat_minor": 4
}
